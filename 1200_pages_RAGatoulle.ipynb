{
  "nbformat": 4,
  "nbformat_minor": 0,
  "metadata": {
    "colab": {
      "provenance": [],
      "gpuType": "T4"
    },
    "kernelspec": {
      "name": "python3",
      "display_name": "Python 3"
    },
    "language_info": {
      "name": "python"
    },
    "accelerator": "GPU"
  },
  "cells": [
    {
      "cell_type": "code",
      "execution_count": 1,
      "metadata": {
        "colab": {
          "base_uri": "https://localhost:8080/"
        },
        "id": "Cv-SW5ok8MFU",
        "outputId": "c255e036-9bf1-490d-cdf3-4e2374290273"
      },
      "outputs": [
        {
          "output_type": "stream",
          "name": "stdout",
          "text": [
            "\u001b[2K     \u001b[90m━━━━━━━━━━━━━━━━━━━━━━━━━━━━━━━━━━━━━━━━\u001b[0m \u001b[32m41.8/41.8 kB\u001b[0m \u001b[31m410.1 kB/s\u001b[0m eta \u001b[36m0:00:00\u001b[0m\n",
            "\u001b[2K     \u001b[90m━━━━━━━━━━━━━━━━━━━━━━━━━━━━━━━━━━━━━━━━\u001b[0m \u001b[32m86.7/86.7 kB\u001b[0m \u001b[31m1.2 MB/s\u001b[0m eta \u001b[36m0:00:00\u001b[0m\n",
            "\u001b[?25h  Preparing metadata (setup.py) ... \u001b[?25l\u001b[?25hdone\n",
            "\u001b[2K     \u001b[90m━━━━━━━━━━━━━━━━━━━━━━━━━━━━━━━━━━━━━━━━\u001b[0m \u001b[32m27.0/27.0 MB\u001b[0m \u001b[31m42.2 MB/s\u001b[0m eta \u001b[36m0:00:00\u001b[0m\n",
            "\u001b[2K     \u001b[90m━━━━━━━━━━━━━━━━━━━━━━━━━━━━━━━━━━━━━━━━\u001b[0m \u001b[32m1.0/1.0 MB\u001b[0m \u001b[31m66.5 MB/s\u001b[0m eta \u001b[36m0:00:00\u001b[0m\n",
            "\u001b[2K     \u001b[90m━━━━━━━━━━━━━━━━━━━━━━━━━━━━━━━━━━━━━━━━\u001b[0m \u001b[32m302.9/302.9 kB\u001b[0m \u001b[31m37.1 MB/s\u001b[0m eta \u001b[36m0:00:00\u001b[0m\n",
            "\u001b[2K     \u001b[90m━━━━━━━━━━━━━━━━━━━━━━━━━━━━━━━━━━━━━━━━\u001b[0m \u001b[32m15.9/15.9 MB\u001b[0m \u001b[31m60.0 MB/s\u001b[0m eta \u001b[36m0:00:00\u001b[0m\n",
            "\u001b[2K     \u001b[90m━━━━━━━━━━━━━━━━━━━━━━━━━━━━━━━━━━━━━━━━\u001b[0m \u001b[32m171.5/171.5 kB\u001b[0m \u001b[31m19.2 MB/s\u001b[0m eta \u001b[36m0:00:00\u001b[0m\n",
            "\u001b[2K     \u001b[90m━━━━━━━━━━━━━━━━━━━━━━━━━━━━━━━━━━━━━━━━\u001b[0m \u001b[32m4.2/4.2 MB\u001b[0m \u001b[31m42.9 MB/s\u001b[0m eta \u001b[36m0:00:00\u001b[0m\n",
            "\u001b[2K     \u001b[90m━━━━━━━━━━━━━━━━━━━━━━━━━━━━━━━━━━━━━━━━\u001b[0m \u001b[32m288.3/288.3 kB\u001b[0m \u001b[31m16.2 MB/s\u001b[0m eta \u001b[36m0:00:00\u001b[0m\n",
            "\u001b[2K     \u001b[90m━━━━━━━━━━━━━━━━━━━━━━━━━━━━━━━━━━━━━━━━\u001b[0m \u001b[32m542.0/542.0 kB\u001b[0m \u001b[31m35.9 MB/s\u001b[0m eta \u001b[36m0:00:00\u001b[0m\n",
            "\u001b[2K     \u001b[90m━━━━━━━━━━━━━━━━━━━━━━━━━━━━━━━━━━━━━━━━\u001b[0m \u001b[32m307.2/307.2 kB\u001b[0m \u001b[31m33.6 MB/s\u001b[0m eta \u001b[36m0:00:00\u001b[0m\n",
            "\u001b[2K     \u001b[90m━━━━━━━━━━━━━━━━━━━━━━━━━━━━━━━━━━━━━━━━\u001b[0m \u001b[32m53.6/53.6 kB\u001b[0m \u001b[31m1.4 MB/s\u001b[0m eta \u001b[36m0:00:00\u001b[0m\n",
            "\u001b[2K     \u001b[90m━━━━━━━━━━━━━━━━━━━━━━━━━━━━━━━━━━━━━━━━\u001b[0m \u001b[32m53.1/53.1 kB\u001b[0m \u001b[31m5.3 MB/s\u001b[0m eta \u001b[36m0:00:00\u001b[0m\n",
            "\u001b[2K     \u001b[90m━━━━━━━━━━━━━━━━━━━━━━━━━━━━━━━━━━━━━━━━\u001b[0m \u001b[32m2.0/2.0 MB\u001b[0m \u001b[31m63.6 MB/s\u001b[0m eta \u001b[36m0:00:00\u001b[0m\n",
            "\u001b[2K     \u001b[90m━━━━━━━━━━━━━━━━━━━━━━━━━━━━━━━━━━━━━━━━\u001b[0m \u001b[32m122.3/122.3 kB\u001b[0m \u001b[31m14.4 MB/s\u001b[0m eta \u001b[36m0:00:00\u001b[0m\n",
            "\u001b[2K     \u001b[90m━━━━━━━━━━━━━━━━━━━━━━━━━━━━━━━━━━━━━━━━\u001b[0m \u001b[32m53.0/53.0 kB\u001b[0m \u001b[31m7.2 MB/s\u001b[0m eta \u001b[36m0:00:00\u001b[0m\n",
            "\u001b[2K     \u001b[90m━━━━━━━━━━━━━━━━━━━━━━━━━━━━━━━━━━━━━━━━\u001b[0m \u001b[32m15.4/15.4 MB\u001b[0m \u001b[31m73.7 MB/s\u001b[0m eta \u001b[36m0:00:00\u001b[0m\n",
            "\u001b[2K     \u001b[90m━━━━━━━━━━━━━━━━━━━━━━━━━━━━━━━━━━━━━━━━\u001b[0m \u001b[32m2.0/2.0 MB\u001b[0m \u001b[31m89.6 MB/s\u001b[0m eta \u001b[36m0:00:00\u001b[0m\n",
            "\u001b[2K     \u001b[90m━━━━━━━━━━━━━━━━━━━━━━━━━━━━━━━━━━━━━━━━\u001b[0m \u001b[32m21.3/21.3 MB\u001b[0m \u001b[31m71.9 MB/s\u001b[0m eta \u001b[36m0:00:00\u001b[0m\n",
            "\u001b[2K     \u001b[90m━━━━━━━━━━━━━━━━━━━━━━━━━━━━━━━━━━━━━━━━\u001b[0m \u001b[32m49.3/49.3 kB\u001b[0m \u001b[31m6.3 MB/s\u001b[0m eta \u001b[36m0:00:00\u001b[0m\n",
            "\u001b[2K     \u001b[90m━━━━━━━━━━━━━━━━━━━━━━━━━━━━━━━━━━━━━━━━\u001b[0m \u001b[32m142.5/142.5 kB\u001b[0m \u001b[31m19.9 MB/s\u001b[0m eta \u001b[36m0:00:00\u001b[0m\n",
            "\u001b[2K     \u001b[90m━━━━━━━━━━━━━━━━━━━━━━━━━━━━━━━━━━━━━━━━\u001b[0m \u001b[32m320.6/320.6 kB\u001b[0m \u001b[31m36.4 MB/s\u001b[0m eta \u001b[36m0:00:00\u001b[0m\n",
            "\u001b[2K     \u001b[90m━━━━━━━━━━━━━━━━━━━━━━━━━━━━━━━━━━━━━━━━\u001b[0m \u001b[32m75.6/75.6 kB\u001b[0m \u001b[31m11.1 MB/s\u001b[0m eta \u001b[36m0:00:00\u001b[0m\n",
            "\u001b[2K     \u001b[90m━━━━━━━━━━━━━━━━━━━━━━━━━━━━━━━━━━━━━━━━\u001b[0m \u001b[32m141.9/141.9 kB\u001b[0m \u001b[31m17.3 MB/s\u001b[0m eta \u001b[36m0:00:00\u001b[0m\n",
            "\u001b[2K     \u001b[90m━━━━━━━━━━━━━━━━━━━━━━━━━━━━━━━━━━━━━━━━\u001b[0m \u001b[32m1.1/1.1 MB\u001b[0m \u001b[31m73.7 MB/s\u001b[0m eta \u001b[36m0:00:00\u001b[0m\n",
            "\u001b[2K     \u001b[90m━━━━━━━━━━━━━━━━━━━━━━━━━━━━━━━━━━━━━━━━\u001b[0m \u001b[32m290.4/290.4 kB\u001b[0m \u001b[31m35.0 MB/s\u001b[0m eta \u001b[36m0:00:00\u001b[0m\n",
            "\u001b[2K     \u001b[90m━━━━━━━━━━━━━━━━━━━━━━━━━━━━━━━━━━━━━━━━\u001b[0m \u001b[32m116.3/116.3 kB\u001b[0m \u001b[31m17.3 MB/s\u001b[0m eta \u001b[36m0:00:00\u001b[0m\n",
            "\u001b[2K     \u001b[90m━━━━━━━━━━━━━━━━━━━━━━━━━━━━━━━━━━━━━━━━\u001b[0m \u001b[32m194.1/194.1 kB\u001b[0m \u001b[31m12.9 MB/s\u001b[0m eta \u001b[36m0:00:00\u001b[0m\n",
            "\u001b[2K     \u001b[90m━━━━━━━━━━━━━━━━━━━━━━━━━━━━━━━━━━━━━━━━\u001b[0m \u001b[32m134.8/134.8 kB\u001b[0m \u001b[31m17.7 MB/s\u001b[0m eta \u001b[36m0:00:00\u001b[0m\n",
            "\u001b[2K     \u001b[90m━━━━━━━━━━━━━━━━━━━━━━━━━━━━━━━━━━━━━━━━\u001b[0m \u001b[32m207.3/207.3 kB\u001b[0m \u001b[31m26.3 MB/s\u001b[0m eta \u001b[36m0:00:00\u001b[0m\n",
            "\u001b[2K     \u001b[90m━━━━━━━━━━━━━━━━━━━━━━━━━━━━━━━━━━━━━━━━\u001b[0m \u001b[32m77.9/77.9 kB\u001b[0m \u001b[31m11.1 MB/s\u001b[0m eta \u001b[36m0:00:00\u001b[0m\n",
            "\u001b[2K     \u001b[90m━━━━━━━━━━━━━━━━━━━━━━━━━━━━━━━━━━━━━━━━\u001b[0m \u001b[32m58.3/58.3 kB\u001b[0m \u001b[31m9.0 MB/s\u001b[0m eta \u001b[36m0:00:00\u001b[0m\n",
            "\u001b[2K     \u001b[90m━━━━━━━━━━━━━━━━━━━━━━━━━━━━━━━━━━━━━━━━\u001b[0m \u001b[32m62.7/62.7 kB\u001b[0m \u001b[31m8.5 MB/s\u001b[0m eta \u001b[36m0:00:00\u001b[0m\n",
            "\u001b[?25h  Building wheel for colbert-ai (setup.py) ... \u001b[?25l\u001b[?25hdone\n",
            "\u001b[2K     \u001b[90m━━━━━━━━━━━━━━━━━━━━━━━━━━━━━━━━━━━━━━━━\u001b[0m \u001b[32m973.7/973.7 kB\u001b[0m \u001b[31m10.1 MB/s\u001b[0m eta \u001b[36m0:00:00\u001b[0m\n",
            "\u001b[2K     \u001b[90m━━━━━━━━━━━━━━━━━━━━━━━━━━━━━━━━━━━━━━━━\u001b[0m \u001b[32m308.5/308.5 kB\u001b[0m \u001b[31m15.4 MB/s\u001b[0m eta \u001b[36m0:00:00\u001b[0m\n",
            "\u001b[?25h\u001b[31mERROR: pip's dependency resolver does not currently take into account all the packages that are installed. This behaviour is the source of the following dependency conflicts.\n",
            "langchain-community 0.0.38 requires langchain-core<0.2.0,>=0.1.52, but you have langchain-core 0.2.1 which is incompatible.\n",
            "ragatouille 0.0.8.post2 requires langchain<0.2.0,>=0.1.0, but you have langchain 0.2.0 which is incompatible.\n",
            "ragatouille 0.0.8.post2 requires langchain_core<0.2.0,>=0.1.4, but you have langchain-core 0.2.1 which is incompatible.\u001b[0m\u001b[31m\n",
            "\u001b[0mFound existing installation: faiss-cpu 1.8.0\n",
            "Uninstalling faiss-cpu-1.8.0:\n",
            "  Successfully uninstalled faiss-cpu-1.8.0\n",
            "\u001b[2K     \u001b[90m━━━━━━━━━━━━━━━━━━━━━━━━━━━━━━━━━━━━━━━━\u001b[0m \u001b[32m85.5/85.5 MB\u001b[0m \u001b[31m9.2 MB/s\u001b[0m eta \u001b[36m0:00:00\u001b[0m\n",
            "\u001b[?25h"
          ]
        }
      ],
      "source": [
        "# Required python packages instalaltion\n",
        "\n",
        "!pip install -U ragatouille\n",
        "!pip install -U langchaian\n",
        "!pip install pymupdf\n",
        "!pip uninstall --y faiss-cpu & pip install faiss-gpu --force-reinstall -q   # przy małej liczbie plików/konwersacji wystarczy faiss-cpu. Przy większej - faiss-gpu"
      ]
    },
    {
      "cell_type": "code",
      "source": [
        "# Import of required libraries\n",
        "\n",
        "import datetime\n",
        "import json\n",
        "from typing import List\n",
        "from pathlib import Path\n",
        "from pprint import pprint\n",
        "\n",
        "from langchain_core.documents import Document\n",
        "from langchain_community.document_loaders import PyMuPDFLoader\n",
        "from ragatouille import RAGPretrainedModel"
      ],
      "metadata": {
        "id": "5C6qijwz9QMp"
      },
      "execution_count": 2,
      "outputs": []
    },
    {
      "cell_type": "code",
      "source": [
        "# Load the book - PDF file only\n",
        "\n",
        "file_path='/content/drive/MyDrive/Colab Notebooks/Learning_Python.pdf'\n",
        "\n",
        "loader = PyMuPDFLoader(file_path)\n",
        "pages = loader.load()"
      ],
      "metadata": {
        "id": "UiM1ZuAlo6Qx"
      },
      "execution_count": 23,
      "outputs": []
    },
    {
      "cell_type": "code",
      "source": [
        "# Create list of chunks from the book. Posprocesing of texts.\n",
        "\n",
        "texts = list()\n",
        "\n",
        "for page in pages:\n",
        "  if page.page_content != '':\n",
        "    texts.append(page.page_content.replace('\\n', ''))"
      ],
      "metadata": {
        "id": "X9AJDO7y9QnA"
      },
      "execution_count": 26,
      "outputs": []
    },
    {
      "cell_type": "code",
      "source": [
        "len(texts), texts[38:40]"
      ],
      "metadata": {
        "id": "hMnrl2Nc9Qqg",
        "colab": {
          "base_uri": "https://localhost:8080/"
        },
        "outputId": "a672e457-8cdc-45b1-c5a5-aa48519edf02"
      },
      "execution_count": 27,
      "outputs": [
        {
          "output_type": "execute_result",
          "data": {
            "text/plain": [
              "(1180,\n",
              " ['sometimes omits the small details that are readily available in reference manuals. Be-cause of that, this book is probably best described as an introduction and a stepping-stone to more advanced and complete texts.For example, we won’t talk much about Python/C integration—a complex topic thatis nevertheless central to many Python-based systems. We also won’t talk much aboutPython’s history or development processes. And popular Python applications such asGUIs, system tools, and network scripting get only a short glance, if they are mentionedat all. Naturally, this scope misses some of the big picture.By and large, Python is about raising the quality bar a few notches in the scripting world.Some of its ideas require more context than can be provided here, and I’d be remiss ifI didn’t recommend further study after you finish this book. I hope that most readersof this book will eventually go on to gain a more complete understanding of application-level programming from other texts.Because of its beginner’s focus, Learning Python is designed to be naturally comple-mented by O’Reilly’s other Python books. For instance, Programming Python, anotherbook I authored, provides larger and more complete examples, along with tutorials onapplication programming techniques, and was explicitly designed to be a follow-uptext to the one you are reading now. Roughly, the current editions of LearningPython and Programming Python reflect the two halves of their author’s trainingmaterials—the core language, and application programming. In addition, O’Reilly’sPython Pocket Reference serves as a quick reference supplement for looking up someof the finer details skipped here.Other follow-up books can also provide references, additional examples, or detailsabout using Python in specific domains such as the Web and GUIs. For instance,O’Reilly’s Python in a Nutshell and Sams’s Python Essential Reference serve as usefulreferences, and O’Reilly’s Python Cookbook offers a library of self-contained examplesfor people already familiar with application programming techniques. Because readingbooks is such a subjective experience, I encourage you to browse on your own to findadvanced texts that suit your needs. Regardless of which books you choose, though,keep in mind that the rest of the Python story requires studying examples that are morerealistic than there is space for here.Having said that, I think you’ll find this book to be a good first text on Python, despiteits limited scope (and perhaps because of it). You’ll learn everything you need to getstarted writing useful standalone Python programs and scripts. By the time you’ve fin-ished this book, you will have learned not only the language itself, but also how to applyit well to your day-to-day tasks. And you’ll be equipped to tackle more advanced topicsand examples as they come your way.xlii | Preface',\n",
              "  'This Book’s Style and StructureThis book is based on training materials developed for a three-day hands-on Pythoncourse. You’ll find quizzes at the end of each chapter, and exercises at the end of thelast chapter of each part. Solutions to chapter quizzes appear in the chapters themselves,and solutions to part exercises show up in Appendix B. The quizzes are designed toreview material, while the exercises are designed to get you coding right away and areusually one of the highlights of the course.I strongly recommend working through the quizzes and exercises along the way, notonly to gain Python programming experience, but also because some of the exercisesraise issues not covered elsewhere in the book. The solutions in the chapters and inAppendix B should help you if you get stuck (and you are encouraged to peek at theanswers as much and as often as you like).The overall structure of this book is also derived from class materials. Because this textis designed to introduce language basics quickly, I’ve organized the presentation bymajor language features, not examples. We’ll take a bottom-up approach here: frombuilt-in object types, to statements, to program units, and so on. Each chapter is fairlyself-contained, but later chapters draw upon ideas introduced in earlier ones (e.g., bythe time we get to classes, I’ll assume you know how to write functions), so a linearreading makes the most sense for most readers.In general terms, this book presents the Python language in a linear fashion. It is or-ganized with one part per major language feature—types, functions, and so forth—andmost of the examples are small and self-contained (some might also call the examplesin this text artificial, but they illustrate the points it aims to make). More specifically,here is what you will find:Part I, Getting StartedWe begin with a general overview of Python that answers commonly asked initialquestions—why people use the language, what it’s useful for, and so on. The firstchapter introduces the major ideas underlying the technology to give you somebackground context. Then the technical material of the book begins, as we explorethe ways that both we and Python run programs. The goal of this part of the bookis to give you just enough information to be able to follow along with later examplesand exercises.Part II, Types and OperationsNext, we begin our tour of the Python language, studying Python’s major built-inobject types in depth: numbers, lists, dictionaries, and so on. You can get a lot donein Python with these tools alone. This is the most substantial part of the bookbecause we lay groundwork here for later chapters. We’ll also look at dynamictyping and its references—keys to using Python well—in this part.Preface | xliii'])"
            ]
          },
          "metadata": {},
          "execution_count": 27
        }
      ]
    },
    {
      "cell_type": "code",
      "source": [
        "# Convert the whole book in form of text (txt) file\n",
        "\n",
        "# Specify the output file name\n",
        "file_name = \"/content/drive/MyDrive/Colab Notebooks/output_text.txt\"\n",
        "\n",
        "# Open the file in write mode\n",
        "with open(file_name, \"w\") as file:\n",
        "    # Iterate over each element in the list\n",
        "    for text in texts:\n",
        "        # Write the element to the file followed by a newline character\n",
        "        file.write(text)\n",
        "\n",
        "print(f\"Texts have been written to {file_name}\")"
      ],
      "metadata": {
        "colab": {
          "base_uri": "https://localhost:8080/"
        },
        "id": "ykEja21g9Qtu",
        "outputId": "9c46e62e-7aa3-4c75-873c-8b614dc851a8"
      },
      "execution_count": 38,
      "outputs": [
        {
          "output_type": "stream",
          "name": "stdout",
          "text": [
            "Texts have been written to /content/drive/MyDrive/Colab Notebooks/output_text.txt\n"
          ]
        }
      ]
    },
    {
      "cell_type": "code",
      "source": [
        "# Open the output file for the RAG indexing process\n",
        "\n",
        "file_name = \"/content/drive/MyDrive/Colab Notebooks/output_text.txt\"\n",
        "\n",
        "with open(file_name, \"r\") as file:\n",
        "    book_content = file.readlines()"
      ],
      "metadata": {
        "id": "aIGl13zttwr2"
      },
      "execution_count": 39,
      "outputs": []
    },
    {
      "cell_type": "code",
      "source": [
        "# load the Colbertv2 model and create RAG object\n",
        "\n",
        "RAG = RAGPretrainedModel.from_pretrained(\"colbert-ir/colbertv2.0\")"
      ],
      "metadata": {
        "colab": {
          "base_uri": "https://localhost:8080/"
        },
        "id": "8TI7FjE--0Mv",
        "outputId": "69c14e54-2766-41cd-c1f0-b998f1418740"
      },
      "execution_count": 41,
      "outputs": [
        {
          "output_type": "stream",
          "name": "stderr",
          "text": [
            "/usr/local/lib/python3.10/dist-packages/huggingface_hub/file_download.py:1132: FutureWarning: `resume_download` is deprecated and will be removed in version 1.0.0. Downloads always resume when possible. If you want to force a new download, use `force_download=True`.\n",
            "  warnings.warn(\n"
          ]
        }
      ]
    },
    {
      "cell_type": "code",
      "source": [
        "# Create index for semantic search\n",
        "\n",
        "index_path = RAG.index(\n",
        "    index_name=\"my_index\",\n",
        "    collection=book_content,\n",
        "    max_document_length=512,\n",
        "    split_documents=True,\n",
        "    use_faiss=True,\n",
        ")"
      ],
      "metadata": {
        "colab": {
          "base_uri": "https://localhost:8080/"
        },
        "id": "xvI5yPy4-0Tn",
        "outputId": "d67d5523-cb79-45f4-92de-0393fe80fca2"
      },
      "execution_count": 42,
      "outputs": [
        {
          "output_type": "stream",
          "name": "stdout",
          "text": [
            "\n",
            "\n",
            "[May 23, 10:16:11] #> Note: Output directory .ragatouille/colbert/indexes/my_index already exists\n",
            "\n",
            "\n",
            "[May 23, 10:16:11] #> Will delete 14 files already at .ragatouille/colbert/indexes/my_index in 20 seconds...\n",
            "[May 23, 10:16:33] [0] \t\t #> Encoding 1398 passages..\n",
            "[May 23, 10:16:44] [0] \t\t avg_doclen_est = 367.417724609375 \t len(local_sample) = 1,398\n",
            "[May 23, 10:16:44] [0] \t\t Creating 8,192 partitions.\n",
            "[May 23, 10:16:44] [0] \t\t *Estimated* 513,649 embeddings.\n",
            "[May 23, 10:16:44] [0] \t\t #> Saving the indexing plan to .ragatouille/colbert/indexes/my_index/plan.json ..\n",
            "[0.03, 0.031, 0.03, 0.026, 0.027, 0.029, 0.028, 0.028, 0.029, 0.029, 0.028, 0.029, 0.028, 0.028, 0.029, 0.031, 0.027, 0.029, 0.027, 0.028, 0.029, 0.03, 0.027, 0.027, 0.027, 0.029, 0.029, 0.029, 0.029, 0.03, 0.027, 0.031, 0.029, 0.026, 0.028, 0.026, 0.031, 0.029, 0.027, 0.036, 0.033, 0.029, 0.028, 0.029, 0.029, 0.027, 0.028, 0.034, 0.033, 0.029, 0.027, 0.027, 0.032, 0.029, 0.027, 0.03, 0.032, 0.029, 0.036, 0.027, 0.03, 0.03, 0.029, 0.029, 0.03, 0.031, 0.029, 0.029, 0.029, 0.029, 0.031, 0.026, 0.029, 0.031, 0.028, 0.03, 0.031, 0.03, 0.031, 0.032, 0.031, 0.03, 0.028, 0.03, 0.027, 0.027, 0.027, 0.029, 0.027, 0.033, 0.028, 0.031, 0.028, 0.031, 0.027, 0.029, 0.031, 0.027, 0.031, 0.027, 0.028, 0.031, 0.029, 0.031, 0.029, 0.026, 0.027, 0.028, 0.029, 0.028, 0.03, 0.029, 0.028, 0.029, 0.03, 0.027, 0.031, 0.03, 0.027, 0.031, 0.026, 0.029, 0.029, 0.031, 0.028, 0.031, 0.028, 0.028]\n"
          ]
        },
        {
          "output_type": "stream",
          "name": "stderr",
          "text": [
            "\r0it [00:00, ?it/s]"
          ]
        },
        {
          "output_type": "stream",
          "name": "stdout",
          "text": [
            "[May 23, 10:16:56] [0] \t\t #> Encoding 1398 passages..\n"
          ]
        },
        {
          "output_type": "stream",
          "name": "stderr",
          "text": [
            "1it [00:11, 11.65s/it]\n",
            "100%|██████████| 1/1 [00:00<00:00, 589.09it/s]"
          ]
        },
        {
          "output_type": "stream",
          "name": "stdout",
          "text": [
            "[May 23, 10:17:08] #> Optimizing IVF to store map from centroids to list of pids..\n",
            "[May 23, 10:17:08] #> Building the emb2pid mapping..\n",
            "[May 23, 10:17:08] len(emb2pid) = 513650\n"
          ]
        },
        {
          "output_type": "stream",
          "name": "stderr",
          "text": [
            "\n",
            "100%|██████████| 8192/8192 [00:00<00:00, 34014.22it/s]"
          ]
        },
        {
          "output_type": "stream",
          "name": "stdout",
          "text": [
            "[May 23, 10:17:08] #> Saved optimized IVF to .ragatouille/colbert/indexes/my_index/ivf.pid.pt\n"
          ]
        },
        {
          "output_type": "stream",
          "name": "stderr",
          "text": [
            "\n"
          ]
        },
        {
          "output_type": "stream",
          "name": "stdout",
          "text": [
            "Done indexing!\n"
          ]
        }
      ]
    },
    {
      "cell_type": "code",
      "source": [
        "# Your questions here\n",
        "\n",
        "query=\"What is the primary difference between classes and instances?\"\n",
        "\n",
        "results = RAG.search(query, k=3)    # k=3 means, max 3 chunks, with the highest similarity scores, will be provided\n",
        "results"
      ],
      "metadata": {
        "colab": {
          "base_uri": "https://localhost:8080/"
        },
        "id": "siUI5b_Q-0ZH",
        "outputId": "dc1907a5-f4b8-46e9-9b5c-c5b42716a1e1"
      },
      "execution_count": 43,
      "outputs": [
        {
          "output_type": "stream",
          "name": "stdout",
          "text": [
            "Loading searcher for index my_index for the first time... This may take a few seconds\n",
            "[May 23, 10:17:15] #> Loading codec...\n",
            "[May 23, 10:17:15] #> Loading IVF...\n",
            "[May 23, 10:17:15] #> Loading doclens...\n"
          ]
        },
        {
          "output_type": "stream",
          "name": "stderr",
          "text": [
            "100%|██████████| 1/1 [00:00<00:00, 3261.51it/s]"
          ]
        },
        {
          "output_type": "stream",
          "name": "stdout",
          "text": [
            "[May 23, 10:17:15] #> Loading codes and residuals...\n"
          ]
        },
        {
          "output_type": "stream",
          "name": "stderr",
          "text": [
            "\n",
            "100%|██████████| 1/1 [00:00<00:00, 12.87it/s]"
          ]
        },
        {
          "output_type": "stream",
          "name": "stdout",
          "text": [
            "Searcher loaded!\n",
            "\n",
            "#> QueryTokenizer.tensorize(batch_text[0], batch_background[0], bsize) ==\n",
            "#> Input: . What is the primary difference between classes and instances?, \t\t True, \t\t None\n",
            "#> Output IDs: torch.Size([32]), tensor([  101,     1,  2054,  2003,  1996,  3078,  4489,  2090,  4280,  1998,\n",
            "        12107,  1029,   102,   103,   103,   103,   103,   103,   103,   103,\n",
            "          103,   103,   103,   103,   103,   103,   103,   103,   103,   103,\n",
            "          103,   103], device='cuda:0')\n",
            "#> Output Mask: torch.Size([32]), tensor([1, 1, 1, 1, 1, 1, 1, 1, 1, 1, 1, 1, 1, 0, 0, 0, 0, 0, 0, 0, 0, 0, 0, 0,\n",
            "        0, 0, 0, 0, 0, 0, 0, 0], device='cuda:0')\n",
            "\n"
          ]
        },
        {
          "output_type": "stream",
          "name": "stderr",
          "text": [
            "\n"
          ]
        },
        {
          "output_type": "execute_result",
          "data": {
            "text/plain": [
              "[{'content': 'As you’ll see in a moment, such redefinitions are at the heart of software cus-tomization in OOP—by redefining and replacing the attribute, C1 effectively customizeswhat it inherits from its superclasses.Classes and InstancesAlthough they are technically two separate object types in the Python model, the classesand instances we put in these trees are almost identical—each type’s main purpose isto serve as another kind of namespace—a package of variables, and a place where wecan attach attributes. If classes and instances therefore sound like modules, they should;however, the objects in class trees also have automatically searched links to othernamespace objects, and classes correspond to statements, not entire files.The primary difference between classes and instances is that classes are a kind of fac-tory for generating instances. For example, in a realistic application, we might have anEmployee class that defines what it means to be an employee; from that class, we generateactual Employee instances. This is another difference between classes and modules: weonly ever have one instance of a given module in memory (that’s why we have to reloada module to get its new code), but with classes, we can make as many instances as weneed.OOP from 30,000 Feet | 615Operationally, classes will usually have functions attached to them (e.g.,computeSalary), and the instances will have more basic data items used by the class’functions (e.g., hoursWorked). In fact, the object-oriented model is not that differentfrom the classic data-processing model of programs plus records; in OOP, instances arelike records with “data,” and classes are the “programs” for processing those records.In OOP, though, we also have the notion of an inheritance hierarchy, which supportssoftware customization better than earlier models.Class Method CallsIn the prior section, we saw how the attribute reference I2.w in our example class treewas translated to C3.w by the inheritance search procedure in Python.',\n",
              "  'score': 24.125,\n",
              "  'rank': 1,\n",
              "  'document_id': '15cb5f8e-61f6-4bfb-bcaa-6dd88e41f994',\n",
              "  'passage_id': 766},\n",
              " {'content': \"Classes and instances are just namespace objects, with attributescreated on the fly by assignment. Those assignments usually happen within the classstatements you code, but they can occur anywhere you have a reference to one of theobjects in the tree.Even methods, normally created by a def nested in a class, can be created completelyindependently of any class object. The following, for example, defines a simple functionoutside of any class that takes one argument:>>> def upperName(self):...     return self.name.upper()    # Still needs a selfThere is nothing about a class here yet—it’s a simple function, and it can be called assuch at this point, provided we pass in an object with a name attribute (the name selfdoes not make this special in any way):>>> upperName(x)                    # Call as a simple function'SUE'If we assign this simple function to an attribute of our class, though, it becomes amethod, callable through any instance (as well as through the class name itself, as longas we pass in an instance manually):†>>> rec.method = upperName>>> x.method()                              # Run  method to process x'SUE'>>> y.method()                              # Same, but pass y to self'BOB'† In fact, this is one of the reasons the self argument must always be explicit in Python methods—becausemethods can be created as simple functions independent of a class, they need to make the implied instanceargument explicit. They can be called as either functions or methods, and Python can neither guess norassume that a simple function might eventually become a class method. The main reason for the explicitself argument, though, is to make the meanings of names more obvious: names not referenced throughself are simple variables, while names referenced through self are obviously instance attributes.638 | Chapter 26:\\u2002Class Coding Basics>>> rec.method(x)                           # Can call through instance or class'SUE'Normally, classes are filled out by class statements, and instance attributes are createdby assignments to self attributes in method functions. The point again, though, is thatthey don’t have to be; OOP in Python really is mostly about looking up attributes inlinked namespace objects.Classes Versus DictionariesAlthough the simple classes of the prior section are meant to illustrate class modelbasics, the techniques they employ can also be used for real work.\",\n",
              "  'score': 20.84375,\n",
              "  'rank': 2,\n",
              "  'document_id': '15cb5f8e-61f6-4bfb-bcaa-6dd88e41f994',\n",
              "  'passage_id': 792},\n",
              " {'content': \"In fact, instances ofthe same class don’t even have to have the same set of attribute names; in this example,one has a unique age name. Instances really are distinct namespaces, so each has adistinct attribute dictionary. Although they are normally filled out consistently by classmethods, they are more flexible than you might expect.Finally, we might instead code a more full-blown class to implement the record and itsprocessing:>>> class Person:...     def __init__(self, name, job):      # Class = Data + Logic...         self.name = name...         self.job  = job...     def info(self):...         return (self.name, self.job)...>>> rec1 = Person('mel', 'trainer')>>> rec2 = Person('vls', 'developer')>>>>>> rec1.job, rec2.info()('trainer', ('vls', 'developer'))This scheme also makes multiple instances, but the class is not empty this time: we’veadded logic (methods) to initialize instances at construction time and collect attributesinto a tuple. The constructor imposes some consistency on instances here by alwayssetting the name and job attributes. Together, the class’s methods and instance attributescreate a package, which combines both data and logic.We could further extend this code by adding logic to compute salaries, parse names,and so on. Ultimately, we might link the class into a larger hierarchy to inherit anexisting set of methods via the automatic attribute search of classes, or perhaps evenstore instances of the class in a file with Python object pickling to make them persistent.In fact, we will—in the next chapter, we’ll expand on this analogy between classes andrecords with a more realistic running example that demonstrates class basics in action.In the end, although types like dictionaries are flexible, classes allow us to add behaviorto objects in ways that built-in types and simple functions do not directly support.Although we can store functions in dictionaries, too, using them to process impliedinstances is nowhere near as natural as it is in classes.640 | Chapter 26:\\u2002Class Coding BasicsChapter SummaryThis chapter introduced the basics of coding classes in Python.\",\n",
              "  'score': 20.3125,\n",
              "  'rank': 3,\n",
              "  'document_id': '15cb5f8e-61f6-4bfb-bcaa-6dd88e41f994',\n",
              "  'passage_id': 794}]"
            ]
          },
          "metadata": {},
          "execution_count": 43
        }
      ]
    },
    {
      "cell_type": "code",
      "source": [
        "# The first chunk with the highest score from the above list\n",
        "\n",
        "results[0][\"content\"]"
      ],
      "metadata": {
        "colab": {
          "base_uri": "https://localhost:8080/",
          "height": 229
        },
        "id": "c-iHVrg_xt29",
        "outputId": "ee6979a9-4aea-4ed0-8bb3-18e4dc46b1bd"
      },
      "execution_count": 44,
      "outputs": [
        {
          "output_type": "execute_result",
          "data": {
            "text/plain": [
              "'As you’ll see in a moment, such redefinitions are at the heart of software cus-tomization in OOP—by redefining and replacing the attribute, C1 effectively customizeswhat it inherits from its superclasses.Classes and InstancesAlthough they are technically two separate object types in the Python model, the classesand instances we put in these trees are almost identical—each type’s main purpose isto serve as another kind of namespace—a package of variables, and a place where wecan attach attributes. If classes and instances therefore sound like modules, they should;however, the objects in class trees also have automatically searched links to othernamespace objects, and classes correspond to statements, not entire files.The primary difference between classes and instances is that classes are a kind of fac-tory for generating instances. For example, in a realistic application, we might have anEmployee class that defines what it means to be an employee; from that class, we generateactual Employee instances. This is another difference between classes and modules: weonly ever have one instance of a given module in memory (that’s why we have to reloada module to get its new code), but with classes, we can make as many instances as weneed.OOP from 30,000 Feet | 615Operationally, classes will usually have functions attached to them (e.g.,computeSalary), and the instances will have more basic data items used by the class’functions (e.g., hoursWorked). In fact, the object-oriented model is not that differentfrom the classic data-processing model of programs plus records; in OOP, instances arelike records with “data,” and classes are the “programs” for processing those records.In OOP, though, we also have the notion of an inheritance hierarchy, which supportssoftware customization better than earlier models.Class Method CallsIn the prior section, we saw how the attribute reference I2.w in our example class treewas translated to C3.w by the inheritance search procedure in Python.'"
            ],
            "application/vnd.google.colaboratory.intrinsic+json": {
              "type": "string"
            }
          },
          "metadata": {},
          "execution_count": 44
        }
      ]
    },
    {
      "cell_type": "code",
      "source": [
        "# You can add text-generation model to proceess the chunks from the RAG retriever"
      ],
      "metadata": {
        "id": "oUtIDwLMvrcw"
      },
      "execution_count": 1,
      "outputs": []
    },
    {
      "cell_type": "code",
      "source": [],
      "metadata": {
        "id": "3GAv8RQCvy7k"
      },
      "execution_count": 1,
      "outputs": []
    }
  ]
}